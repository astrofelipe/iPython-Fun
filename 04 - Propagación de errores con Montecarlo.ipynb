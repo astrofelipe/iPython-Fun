{
 "cells": [
  {
   "cell_type": "code",
   "execution_count": 1,
   "metadata": {},
   "outputs": [],
   "source": [
    "import numpy as np\n",
    "import matplotlib.pyplot as plt\n",
    "from astropy.stats import mad_std\n",
    "%matplotlib inline"
   ]
  },
  {
   "cell_type": "markdown",
   "metadata": {},
   "source": [
    "# Propagación de errores con Montecarlo\n",
    "\n",
    "Esta forma de propagar errores es conveniente ya sea cuando tenemos una expresión complicada o podemos explotar las ventajas de poder programarlo."
   ]
  },
  {
   "cell_type": "markdown",
   "metadata": {},
   "source": [
    "## Ejemplo 1: Expresión simple y errores pequeños\n",
    "\n",
    "Vamos a comparar primero con las fórmulas de propagación de errores que se usan habitualmente.\n",
    "\n",
    "Supongamos que queremos calcular la densidad del hierro. Para esto hemos medido la masa y el volumen de un objeto hecho 100% de este material. Nuestras mediciones son bastante precisas (0.1 gr y 0.1 cm$^3$ de incertezas)\n",
    "\n",
    "$$\\rho = \\frac{m}{V}$$"
   ]
  },
  {
   "cell_type": "code",
   "execution_count": 2,
   "metadata": {},
   "outputs": [],
   "source": [
    "#Densidad del hierro (para comparación)\n",
    "true_rho = 7.874 #En gr/cm^3\n",
    "\n",
    "#Masa\n",
    "mass  = 23.96 #gr\n",
    "emass = 0.1 #Incerteza en la medición\n",
    "\n",
    "#Volumen\n",
    "vol   = 3.05 #en cm^3\n",
    "evol  = 0.1"
   ]
  },
  {
   "cell_type": "markdown",
   "metadata": {},
   "source": [
    "### Método con la fórmula\n",
    "\n",
    "Tenemos una división, así que el error propagado (asumiendo variables independientes...) es\n",
    "$$\\sigma_{\\rho}=\\rho\\sqrt{\\left(\\frac{\\sigma_m}{m}\\right)^2 + \\left(\\frac{\\sigma_V}{V}\\right)^2}$$"
   ]
  },
  {
   "cell_type": "code",
   "execution_count": 3,
   "metadata": {},
   "outputs": [
    {
     "name": "stdout",
     "output_type": "stream",
     "text": [
      "rho:\t\t 7.855737704918034\n",
      "sigma_rho:\t 0.2596435960651886\n"
     ]
    }
   ],
   "source": [
    "rho  = mass/vol\n",
    "erho = rho * np.sqrt((emass/mass)**2 + (evol/vol)**2)\n",
    "\n",
    "print('rho:\\t\\t', rho)\n",
    "print('sigma_rho:\\t', erho)"
   ]
  },
  {
   "cell_type": "markdown",
   "metadata": {},
   "source": [
    "Intentemos ahora samplear valores de una distribución normal, generada con las medias y varianzas determinadas por los valores de la medición."
   ]
  },
  {
   "cell_type": "code",
   "execution_count": 4,
   "metadata": {},
   "outputs": [],
   "source": [
    "masses = np.random.normal(mass, emass, size=25000)\n",
    "vols   = np.random.normal(vol, evol, size=25000)"
   ]
  },
  {
   "cell_type": "markdown",
   "metadata": {},
   "source": [
    "Y calculamos la densidad para cada par de samples, es decir"
   ]
  },
  {
   "cell_type": "code",
   "execution_count": 5,
   "metadata": {},
   "outputs": [],
   "source": [
    "rhos = masses/vols"
   ]
  },
  {
   "cell_type": "markdown",
   "metadata": {},
   "source": [
    "Hecho esto, podemos calcular la media y desviación estándar de los valores resultantes"
   ]
  },
  {
   "cell_type": "code",
   "execution_count": 6,
   "metadata": {},
   "outputs": [
    {
     "name": "stdout",
     "output_type": "stream",
     "text": [
      "rho:\t\t 7.854811301063741\n",
      "sigma_rho:\t 0.25803347221390166\n"
     ]
    }
   ],
   "source": [
    "print('rho:\\t\\t', np.median(rhos))\n",
    "print('sigma_rho:\\t', mad_std(rhos))"
   ]
  },
  {
   "cell_type": "markdown",
   "metadata": {},
   "source": [
    "Lo cual entrega valores muy cercanos a los obtenidos con la fórmula para propagar errores. Sin embargo, con esto también podemos ver la distribución de estos samples"
   ]
  },
  {
   "cell_type": "code",
   "execution_count": 7,
   "metadata": {},
   "outputs": [
    {
     "data": {
      "text/plain": [
       "<matplotlib.legend.Legend at 0x1126f9f60>"
      ]
     },
     "execution_count": 7,
     "metadata": {},
     "output_type": "execute_result"
    },
    {
     "data": {
      "image/png": "[encoded data removed]",
      "text/plain": [
       "<Figure size 600x400 with 1 Axes>"
      ]
     },
     "metadata": {
      "needs_background": "light"
     },
     "output_type": "display_data"
    }
   ],
   "source": [
    "fig, ax = plt.subplots(dpi=100)\n",
    "bins    = np.linspace(7,9,75)\n",
    "\n",
    "ax.hist(rhos, bins=bins, color='midnightblue')\n",
    "ax.axvline(np.median(rhos), color='aquamarine', lw=3, label='Mediana de los samples')\n",
    "ax.axvline(true_rho, color='fuchsia', lw=2, dashes=(10,2), label='Valor real')\n",
    "\n",
    "ax.set_xlabel(r'$\\rho$  (gr cm$^{-3}$)')\n",
    "ax.set_ylabel('Frecuencia absoluta')\n",
    "ax.legend()"
   ]
  },
  {
   "cell_type": "markdown",
   "metadata": {},
   "source": [
    "## Ejemplo 2: Expresión simple y errores grandes\n",
    "\n",
    "Este ejemplo muestra la utilidad de poder visualizar y trabajar con la distribución anterior. Repetiremos el mismo código anterior, pero ahora supondremos que nuestros instrumentos no son muy precisos, midiendo incertezas mayores.\n",
    "\n",
    "Recordemos que cuando usamos la fórmula de propagación, asumimos condiciones ideales (linealidad o bien expandimos en Taylor y truncamos, ignoramos correlaciones en la versión simple, que trabajamos con errores son pequeños y distribuyen de forma gaussiana)."
   ]
  },
  {
   "cell_type": "code",
   "execution_count": 8,
   "metadata": {},
   "outputs": [
    {
     "name": "stdout",
     "output_type": "stream",
     "text": [
      "rho:\t\t 7.855737704918034\n",
      "sigma_rho:\t 3.949471009847434\n"
     ]
    }
   ],
   "source": [
    "#Masa\n",
    "mass  = 23.96 #gr\n",
    "emass = 2.5 #Incerteza en la medición\n",
    "\n",
    "#Volumen\n",
    "vol   = 3.05 #en cm^3\n",
    "evol  = 1.5\n",
    "\n",
    "rho  = mass/vol\n",
    "erho = rho * np.sqrt((emass/mass)**2 + (evol/vol)**2)\n",
    "\n",
    "print('rho:\\t\\t', rho)\n",
    "print('sigma_rho:\\t', erho)"
   ]
  },
  {
   "cell_type": "markdown",
   "metadata": {},
   "source": [
    "Como no hemos cambiado los valores de la media, obtenemos un valor bueno para $\\rho$, pero, como es de esperar, la incerteza aumenta, pues propagamos incertezas de mayor magnitud.\n",
    "\n",
    "Veamos qué ocurre con los samples y la distribución."
   ]
  },
  {
   "cell_type": "code",
   "execution_count": 9,
   "metadata": {},
   "outputs": [
    {
     "name": "stdout",
     "output_type": "stream",
     "text": [
      "rho:\t\t 7.647121446225574\n",
      "sigma_rho:\t 3.534018977135151\n"
     ]
    },
    {
     "data": {
      "text/plain": [
       "<matplotlib.legend.Legend at 0x112a20748>"
      ]
     },
     "execution_count": 9,
     "metadata": {},
     "output_type": "execute_result"
    },
    {
     "data": {
      "image/png": "[encoded data removed]",
      "text/plain": [
       "<Figure size 600x400 with 1 Axes>"
      ]
     },
     "metadata": {
      "needs_background": "light"
     },
     "output_type": "display_data"
    }
   ],
   "source": [
    "masses = np.random.normal(mass, emass, size=25000)\n",
    "vols   = np.random.normal(vol, evol, size=25000)\n",
    "rhos   = masses/vols\n",
    "\n",
    "print('rho:\\t\\t', np.median(rhos))\n",
    "print('sigma_rho:\\t', mad_std(rhos))\n",
    "\n",
    "fig, ax = plt.subplots(dpi=100)\n",
    "bins    = np.linspace(0,25,75)\n",
    "\n",
    "ax.hist(rhos, bins=bins, color='midnightblue')\n",
    "ax.axvline(np.median(rhos), color='aquamarine', lw=3, label='Mediana de los samples')\n",
    "ax.axvline(true_rho, color='fuchsia', lw=2, dashes=(10,2), label='Valor real')\n",
    "\n",
    "ax.set_xlabel(r'$\\rho$  (gr cm$^{-3}$)')\n",
    "ax.set_ylabel('Frecuencia absoluta')\n",
    "ax.legend()"
   ]
  },
  {
   "cell_type": "markdown",
   "metadata": {},
   "source": [
    "Los valores dan nuevamente parecidos, consistentes entre sí y con el valor real. Sin embargo, podemos ver la distribución \"de salida\", la cual no se asemeja a una normal. Además, curiosamente, la mediana coincide con el valor real, pero si nos basamos en la distribución, nos cuestionaríamos nuestra manera de proceder."
   ]
  },
  {
   "cell_type": "markdown",
   "metadata": {},
   "source": [
    "## Ejemplo 3: Expresión complicada, errores pequeños\n",
    "\n",
    "Ahora veremos el potencial para tratar con expresiones complejas para la propagación de errores. Supongamos que queremos estimar el momentum angular de un objeto moviéndose en una trayectoria circular.\n",
    "\n",
    "Desgraciadamente, las mediciones que tenemos son de su masa, velocidad lineal, el radio y el ángulo dentro de la trayectoria circular. Esto implica que debemos calcular usando la ecuación\n",
    "\n",
    "$$ L = mrv\\sin\\theta $$\n",
    "\n",
    "Usando las fórmulas de propagación, esto implica una multiplicación de 4 términos y además ver lo que sucede con el termino $\\sin$. Optamos por usar el método introducido en este notebook entonces"
   ]
  },
  {
   "cell_type": "code",
   "execution_count": 10,
   "metadata": {},
   "outputs": [
    {
     "name": "stdout",
     "output_type": "stream",
     "text": [
      "L:\t 5.34006704161079  kg m^2 / s\n"
     ]
    }
   ],
   "source": [
    "#Mediciones\n",
    "mass   = 4.5 #en kg\n",
    "emass  = 0.001\n",
    "\n",
    "rad    = 1.2 #en m\n",
    "erad   = 0.001\n",
    "\n",
    "vel    = 1.12 #en m/s\n",
    "evel   = 0.1\n",
    "\n",
    "theta  = np.radians(62) #en rad\n",
    "etheta = np.radians(0.1)\n",
    "\n",
    "print('L:\\t', mass*rad*vel*np.sin(theta),' kg m^2 / s')"
   ]
  },
  {
   "cell_type": "code",
   "execution_count": 11,
   "metadata": {},
   "outputs": [
    {
     "name": "stdout",
     "output_type": "stream",
     "text": [
      "L:\t 5.337994389449166  kg m^2 / s\n",
      "sigma_L:\t 0.4827071784127951  kg m^2 / s\n"
     ]
    }
   ],
   "source": [
    "#Samples\n",
    "masses = np.random.normal(mass, emass, size=25000)\n",
    "rads   = np.random.normal(rad, erad, size=25000)\n",
    "vels   = np.random.normal(vel, evel, size=25000)\n",
    "ths    = np.random.normal(theta, etheta, size=25000)\n",
    "\n",
    "Ls = masses*rads*vels*np.sin(ths)\n",
    "print('L:\\t', np.median(Ls), ' kg m^2 / s')\n",
    "print('sigma_L:\\t', mad_std(Ls), ' kg m^2 / s')"
   ]
  },
  {
   "cell_type": "code",
   "execution_count": 12,
   "metadata": {},
   "outputs": [
    {
     "name": "stdout",
     "output_type": "stream",
     "text": [
      "L:\t\t 5.337994389449166  kg m^2 / s\n",
      "sigma_L:\t + 0.47840030977618575  - 0.4789533918349953  kg m^2 / s\n"
     ]
    },
    {
     "data": {
      "text/plain": [
       "<matplotlib.legend.Legend at 0x112d82550>"
      ]
     },
     "execution_count": 12,
     "metadata": {},
     "output_type": "execute_result"
    },
    {
     "data": {
      "image/png": "[encoded data removed]",
      "text/plain": [
       "<Figure size 600x400 with 1 Axes>"
      ]
     },
     "metadata": {
      "needs_background": "light"
     },
     "output_type": "display_data"
    }
   ],
   "source": [
    "fig, ax = plt.subplots(dpi=100)\n",
    "bins    = np.linspace(0,30,150)\n",
    "\n",
    "perc = np.percentile(Ls, [50, 16, 84])\n",
    "print('L:\\t\\t', np.median(Ls), ' kg m^2 / s')\n",
    "print('sigma_L:\\t', '+',perc[0] - perc[1], ' -', perc[2] - perc[0], ' kg m^2 / s')\n",
    "\n",
    "ax.hist(Ls, bins=80, color='midnightblue')\n",
    "ax.axvline(perc[0], color='aquamarine', lw=3, label='Mediana de los samples')\n",
    "for p in perc[1:]:\n",
    "    ax.axvline(p, color='aquamarine', lw=1, dashes=(10,2))\n",
    "\n",
    "ax.set_xlabel(r'$L$  (kg m$^2$ s$^{-1}$)')\n",
    "ax.set_ylabel('Frecuencia absoluta')\n",
    "ax.legend()"
   ]
  },
  {
   "cell_type": "markdown",
   "metadata": {},
   "source": [
    "Donde programarlo seguramente fue menos engorroso que obtener la expresión de propagación de errores a mano"
   ]
  }
 ],
 "metadata": {
  "kernelspec": {
   "display_name": "Python 3",
   "language": "python",
   "name": "python3"
  },
  "language_info": {
   "codemirror_mode": {
    "name": "ipython",
    "version": 3
   },
   "file_extension": ".py",
   "mimetype": "text/x-python",
   "name": "python",
   "nbconvert_exporter": "python",
   "pygments_lexer": "ipython3",
   "version": "3.6.8"
  }
 },
 "nbformat": 4,
 "nbformat_minor": 2
}
